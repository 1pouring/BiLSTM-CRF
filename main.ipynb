{
 "nbformat": 4,
 "nbformat_minor": 2,
 "metadata": {
  "language_info": {
   "name": "python",
   "codemirror_mode": {
    "name": "ipython",
    "version": 3
   },
   "version": "3.7.0-final"
  },
  "orig_nbformat": 2,
  "file_extension": ".py",
  "mimetype": "text/x-python",
  "name": "python",
  "npconvert_exporter": "python",
  "pygments_lexer": "ipython3",
  "version": 3,
  "kernelspec": {
   "name": "python3",
   "display_name": "Python 3"
  }
 },
 "cells": [
  {
   "cell_type": "markdown",
   "execution_count": null,
   "metadata": {},
   "outputs": [],
   "source": [
    "# Loading data"
   ]
  },
  {
   "cell_type": "code",
   "execution_count": 99,
   "metadata": {},
   "outputs": [],
   "source": [
    "import pandas as pd\n",
    "import numpy as np"
   ]
  },
  {
   "cell_type": "code",
   "execution_count": 100,
   "metadata": {},
   "outputs": [],
   "source": [
    "myDf=pd.read_csv(\"data/test.csv\")"
   ]
  },
  {
   "cell_type": "markdown",
   "metadata": {},
   "source": [
    "# Preprocessing"
   ]
  },
  {
   "cell_type": "code",
   "execution_count": 101,
   "metadata": {},
   "outputs": [
    {
     "data": {
      "text/html": "<div>\n<style scoped>\n    .dataframe tbody tr th:only-of-type {\n        vertical-align: middle;\n    }\n\n    .dataframe tbody tr th {\n        vertical-align: top;\n    }\n\n    .dataframe thead th {\n        text-align: right;\n    }\n</style>\n<table border=\"1\" class=\"dataframe\">\n  <thead>\n    <tr style=\"text-align: right;\">\n      <th></th>\n      <th>text</th>\n      <th>tag</th>\n    </tr>\n  </thead>\n  <tbody>\n    <tr>\n      <th>0</th>\n      <td>将 军 百 战 死 &lt;end&gt;</td>\n      <td>B I B I S END</td>\n    </tr>\n  </tbody>\n</table>\n</div>",
      "text/plain": "              text            tag\n0  将 军 百 战 死 <end>  B I B I S END"
     },
     "execution_count": 101,
     "metadata": {},
     "output_type": "execute_result"
    }
   ],
   "source": [
    "myDf[\"text\"]=myDf[\"text\"].apply(lambda x:x+\" <end>\")\n",
    "myDf[\"tag\"]=myDf[\"tag\"].apply(lambda x:x+\" END\")\n",
    "myDf[:1]"
   ]
  },
  {
   "cell_type": "code",
   "execution_count": 102,
   "metadata": {},
   "outputs": [],
   "source": [
    "myDf.dropna(inplace=True)"
   ]
  },
  {
   "cell_type": "markdown",
   "execution_count": null,
   "metadata": {},
   "outputs": [],
   "source": [
    "# Transforming data to one-hot embedding to generalize X"
   ]
  },
  {
   "cell_type": "code",
   "execution_count": 103,
   "metadata": {},
   "outputs": [],
   "source": [
    "wordIndexDict={\"<pad>\":0}\n",
    "wi=1\n",
    "for row in myDf[\"text\"].values.tolist():\n",
    "    if type(row)==float:\n",
    "        print(row)\n",
    "        break\n",
    "    for word in row.split(\" \"):\n",
    "        if word not in wordIndexDict:\n",
    "            wordIndexDict[word]=wi\n",
    "            wi+=1\n",
    "vocabSize=wi"
   ]
  },
  {
   "cell_type": "code",
   "execution_count": 104,
   "metadata": {},
   "outputs": [],
   "source": [
    "maxLen=max(len(row) for row in myDf[\"text\"].values.tolist())\n",
    "sequenceLengths=[len(row) for row in myDf[\"text\"].values.tolist()]"
   ]
  },
  {
   "cell_type": "code",
   "execution_count": 105,
   "metadata": {},
   "outputs": [],
   "source": [
    "myDf[\"text\"]=myDf[\"text\"].apply(lambda x:[wordIndexDict[word] for word in x.split()])"
   ]
  },
  {
   "cell_type": "code",
   "execution_count": 106,
   "metadata": {},
   "outputs": [
    {
     "data": {
      "text/plain": "array([[ 1,  2,  3,  4,  5,  6,  0,  0,  0,  0,  0,  0,  0,  0,  0,  0,\n         0,  0,  0],\n       [ 1,  2,  7,  8,  9,  4, 10,  6,  0,  0,  0,  0,  0,  0,  0,  0,\n         0,  0,  0],\n       [ 1,  1,  2,  8,  9,  4, 11,  6,  0,  0,  0,  0,  0,  0,  0,  0,\n         0,  0,  0],\n       [ 2,  4,  1,  2,  6,  0,  0,  0,  0,  0,  0,  0,  0,  0,  0,  0,\n         0,  0,  0],\n       [ 1,  2,  4,  1,  2,  6,  0,  0,  0,  0,  0,  0,  0,  0,  0,  0,\n         0,  0,  0],\n       [ 1,  2,  4,  1,  2,  6,  0,  0,  0,  0,  0,  0,  0,  0,  0,  0,\n         0,  0,  0]])"
     },
     "execution_count": 106,
     "metadata": {},
     "output_type": "execute_result"
    }
   ],
   "source": [
    "import tensorflow as tf\n",
    "X=tf.keras.preprocessing.sequence.pad_sequences(myDf[\"text\"],\n",
    "                                                value=wordIndexDict[\"<pad>\"],\n",
    "                                                padding='post',\n",
    "                                                maxlen=maxLen)\n",
    "X"
   ]
  },
  {
   "cell_type": "markdown",
   "execution_count": null,
   "metadata": {},
   "outputs": [],
   "source": [
    "# Generalizing Y"
   ]
  },
  {
   "cell_type": "code",
   "execution_count": 107,
   "metadata": {},
   "outputs": [
    {
     "name": "stderr",
     "output_type": "stream",
     "text": "100%|██████████| 6/6 [00:00<?, ?it/s]\n"
    }
   ],
   "source": [
    "import tqdm\n",
    "import re\n",
    "\n",
    "myDf[\"tag\"]=myDf[\"tag\"].apply(lambda x:re.sub(\"\\-\\S+\",\"\",x))\n",
    "\n",
    "tagIndexDict = {\"PAD\": 0}\n",
    "ti = 1\n",
    "for row in tqdm.tqdm(myDf[\"tag\"].values.tolist()):\n",
    "    for tag in row.split(\" \"):\n",
    "        if tag not in tagIndexDict:\n",
    "            tagIndexDict[tag] = ti\n",
    "            ti += 1\n",
    "tagSum = len(list(tagIndexDict.keys()))\n",
    "myDf[\"tag\"] = myDf[\"tag\"].apply(lambda x:x.split()+[\"PAD\" for i in range(maxLen-len(x.split()))])\n",
    "myDf[\"tag\"] = myDf[\"tag\"].apply(lambda x:[tagIndexDict[tagItem] for tagItem in x])\n",
    "# myDf[\"tag\"] = myDf[\"tag\"].apply(lambda x: [[0 if tagI != tagIndexDict[tagItem] else 1\n",
    "#                                             for tagI in range(len(tagIndexDict))]\n",
    "#                                             for tagItem in x])\n",
    "y=np.array(myDf[\"tag\"].values.tolist())"
   ]
  },
  {
   "cell_type": "code",
   "execution_count": 108,
   "metadata": {},
   "outputs": [
    {
     "data": {
      "text/plain": "(6, 19)"
     },
     "execution_count": 108,
     "metadata": {},
     "output_type": "execute_result"
    }
   ],
   "source": [
    "y.shape # it is OK whether y is one-hot embedding or not"
   ]
  },
  {
   "cell_type": "markdown",
   "execution_count": null,
   "metadata": {},
   "outputs": [],
   "source": [
    "# Generalizing Model"
   ]
  },
  {
   "cell_type": "code",
   "execution_count": 109,
   "metadata": {},
   "outputs": [],
   "source": [
    "from BiLSTMCRF import MyBiLSTMCRF\n",
    "myModel=MyBiLSTMCRF(vocabSize,maxLen, tagIndexDict,tagSum,sequenceLengths)"
   ]
  },
  {
   "cell_type": "code",
   "execution_count": 110,
   "metadata": {},
   "outputs": [
    {
     "name": "stdout",
     "output_type": "stream",
     "text": "Model: \"sequential_9\"\n_________________________________________________________________\nLayer (type)                 Output Shape              Param #\n=================================================================\nembedding_9 (Embedding)      (None, 19, 100)           1200\n_________________________________________________________________\nbidirectional_18 (Bidirectio (None, 19, 5)             4240\n_________________________________________________________________\nbidirectional_19 (Bidirectio (None, 19, 5)             440\n_________________________________________________________________\ncrf_layer (CRF)              (None, 19)                65\n=================================================================\nTotal params: 5,945\nTrainable params: 5,945\nNon-trainable params: 0\n_________________________________________________________________\n"
    }
   ],
   "source": [
    "myModel.myBiLSTMCRF.summary()"
   ]
  },
  {
   "cell_type": "markdown",
   "metadata": {},
   "source": [
    "# training model"
   ]
  },
  {
   "cell_type": "code",
   "execution_count": 111,
   "metadata": {},
   "outputs": [
    {
     "name": "stdout",
     "output_type": "stream",
     "text": ".9719\nEpoch 1263/1500\n6/6 [==============================] - 0s 6ms/sample - loss: 1.9693\nEpoch 1264/1500\n6/6 [==============================] - 0s 7ms/sample - loss: 1.9667\nEpoch 1265/1500\n6/6 [==============================] - 0s 6ms/sample - loss: 1.9641\nEpoch 1266/1500\n6/6 [==============================] - 0s 7ms/sample - loss: 1.9616\nEpoch 1267/1500\n6/6 [==============================] - 0s 7ms/sample - loss: 1.9590\nEpoch 1268/1500\n6/6 [==============================] - 0s 7ms/sample - loss: 1.9565\nEpoch 1269/1500\n6/6 [==============================] - 0s 7ms/sample - loss: 1.9539\nEpoch 1270/1500\n6/6 [==============================] - 0s 6ms/sample - loss: 1.9514\nEpoch 1271/1500\n6/6 [==============================] - 0s 6ms/sample - loss: 1.9489\nEpoch 1272/1500\n6/6 [==============================] - 0s 7ms/sample - loss: 1.9463\nEpoch 1273/1500\n6/6 [==============================] - 0s 8ms/sample - loss: 1.9438\nEpoch 1274/1500\n6/6 [==============================] - 0s 6ms/sample - loss: 1.9413\nEpoch 1275/1500\n6/6 [==============================] - 0s 7ms/sample - loss: 1.9388\nEpoch 1276/1500\n6/6 [==============================] - 0s 7ms/sample - loss: 1.9363\nEpoch 1277/1500\n6/6 [==============================] - 0s 7ms/sample - loss: 1.9338\nEpoch 1278/1500\n6/6 [==============================] - 0s 7ms/sample - loss: 1.9313\nEpoch 1279/1500\n6/6 [==============================] - 0s 7ms/sample - loss: 1.9288\nEpoch 1280/1500\n6/6 [==============================] - 0s 6ms/sample - loss: 1.9264\nEpoch 1281/1500\n6/6 [==============================] - 0s 6ms/sample - loss: 1.9239\nEpoch 1282/1500\n6/6 [==============================] - 0s 6ms/sample - loss: 1.9214\nEpoch 1283/1500\n6/6 [==============================] - 0s 6ms/sample - loss: 1.9190\nEpoch 1284/1500\n6/6 [==============================] - 0s 8ms/sample - loss: 1.9165\nEpoch 1285/1500\n6/6 [==============================] - 0s 7ms/sample - loss: 1.9141\nEpoch 1286/1500\n6/6 [==============================] - 0s 6ms/sample - loss: 1.9116\nEpoch 1287/1500\n6/6 [==============================] - 0s 7ms/sample - loss: 1.9092\nEpoch 1288/1500\n6/6 [==============================] - 0s 7ms/sample - loss: 1.9068\nEpoch 1289/1500\n6/6 [==============================] - 0s 7ms/sample - loss: 1.9043\nEpoch 1290/1500\n6/6 [==============================] - 0s 7ms/sample - loss: 1.9019\nEpoch 1291/1500\n6/6 [==============================] - 0s 7ms/sample - loss: 1.8995\nEpoch 1292/1500\n6/6 [==============================] - 0s 7ms/sample - loss: 1.8971\nEpoch 1293/1500\n6/6 [==============================] - 0s 8ms/sample - loss: 1.8947\nEpoch 1294/1500\n6/6 [==============================] - 0s 7ms/sample - loss: 1.8923\nEpoch 1295/1500\n6/6 [==============================] - 0s 7ms/sample - loss: 1.8899\nEpoch 1296/1500\n6/6 [==============================] - 0s 7ms/sample - loss: 1.8875\nEpoch 1297/1500\n6/6 [==============================] - 0s 7ms/sample - loss: 1.8852\nEpoch 1298/1500\n6/6 [==============================] - 0s 8ms/sample - loss: 1.8828\nEpoch 1299/1500\n6/6 [==============================] - 0s 9ms/sample - loss: 1.8804\nEpoch 1300/1500\n6/6 [==============================] - 0s 7ms/sample - loss: 1.8781\nEpoch 1301/1500\n6/6 [==============================] - 0s 7ms/sample - loss: 1.8757\nEpoch 1302/1500\n6/6 [==============================] - 0s 7ms/sample - loss: 1.8734\nEpoch 1303/1500\n6/6 [==============================] - 0s 6ms/sample - loss: 1.8710\nEpoch 1304/1500\n6/6 [==============================] - 0s 6ms/sample - loss: 1.8687\nEpoch 1305/1500\n6/6 [==============================] - 0s 6ms/sample - loss: 1.8663\nEpoch 1306/1500\n6/6 [==============================] - 0s 6ms/sample - loss: 1.8640\nEpoch 1307/1500\n6/6 [==============================] - 0s 7ms/sample - loss: 1.8617\nEpoch 1308/1500\n6/6 [==============================] - 0s 6ms/sample - loss: 1.8594\nEpoch 1309/1500\n6/6 [==============================] - 0s 7ms/sample - loss: 1.8571\nEpoch 1310/1500\n6/6 [==============================] - 0s 7ms/sample - loss: 1.8547\nEpoch 1311/1500\n6/6 [==============================] - 0s 7ms/sample - loss: 1.8525\nEpoch 1312/1500\n6/6 [==============================] - 0s 6ms/sample - loss: 1.8502\nEpoch 1313/1500\n6/6 [==============================] - 0s 6ms/sample - loss: 1.8479\nEpoch 1314/1500\n6/6 [==============================] - 0s 6ms/sample - loss: 1.8456\nEpoch 1315/1500\n6/6 [==============================] - 0s 6ms/sample - loss: 1.8433\nEpoch 1316/1500\n6/6 [==============================] - 0s 7ms/sample - loss: 1.8410\nEpoch 1317/1500\n6/6 [==============================] - 0s 6ms/sample - loss: 1.8388\nEpoch 1318/1500\n6/6 [==============================] - 0s 6ms/sample - loss: 1.8365\nEpoch 1319/1500\n6/6 [==============================] - 0s 7ms/sample - loss: 1.8342\nEpoch 1320/1500\n6/6 [==============================] - 0s 8ms/sample - loss: 1.8320\nEpoch 1321/1500\n6/6 [==============================] - 0s 7ms/sample - loss: 1.8297\nEpoch 1322/1500\n6/6 [==============================] - 0s 7ms/sample - loss: 1.8275\nEpoch 1323/1500\n6/6 [==============================] - 0s 8ms/sample - loss: 1.8252\nEpoch 1324/1500\n6/6 [==============================] - 0s 7ms/sample - loss: 1.8230\nEpoch 1325/1500\n6/6 [==============================] - 0s 7ms/sample - loss: 1.8208\nEpoch 1326/1500\n6/6 [==============================] - 0s 8ms/sample - loss: 1.8185\nEpoch 1327/1500\n6/6 [==============================] - 0s 7ms/sample - loss: 1.8163\nEpoch 1328/1500\n6/6 [==============================] - 0s 7ms/sample - loss: 1.8141\nEpoch 1329/1500\n6/6 [==============================] - 0s 7ms/sample - loss: 1.8119\nEpoch 1330/1500\n6/6 [==============================] - 0s 6ms/sample - loss: 1.8097\nEpoch 1331/1500\n6/6 [==============================] - 0s 7ms/sample - loss: 1.8075\nEpoch 1332/1500\n6/6 [==============================] - 0s 7ms/sample - loss: 1.8053\nEpoch 1333/1500\n6/6 [==============================] - 0s 7ms/sample - loss: 1.8031\nEpoch 1334/1500\n6/6 [==============================] - 0s 6ms/sample - loss: 1.8009\nEpoch 1335/1500\n6/6 [==============================] - 0s 7ms/sample - loss: 1.7987\nEpoch 1336/1500\n6/6 [==============================] - 0s 8ms/sample - loss: 1.7965\nEpoch 1337/1500\n6/6 [==============================] - 0s 7ms/sample - loss: 1.7944\nEpoch 1338/1500\n6/6 [==============================] - 0s 6ms/sample - loss: 1.7922\nEpoch 1339/1500\n6/6 [==============================] - 0s 6ms/sample - loss: 1.7900\nEpoch 1340/1500\n6/6 [==============================] - 0s 7ms/sample - loss: 1.7879\nEpoch 1341/1500\n6/6 [==============================] - 0s 8ms/sample - loss: 1.7857\nEpoch 1342/1500\n6/6 [==============================] - 0s 8ms/sample - loss: 1.7836\nEpoch 1343/1500\n6/6 [==============================] - 0s 7ms/sample - loss: 1.7814\nEpoch 1344/1500\n6/6 [==============================] - 0s 7ms/sample - loss: 1.7793\nEpoch 1345/1500\n6/6 [==============================] - 0s 9ms/sample - loss: 1.7771\nEpoch 1346/1500\n6/6 [==============================] - 0s 8ms/sample - loss: 1.7750\nEpoch 1347/1500\n6/6 [==============================] - 0s 7ms/sample - loss: 1.7729\nEpoch 1348/1500\n6/6 [==============================] - 0s 7ms/sample - loss: 1.7707\nEpoch 1349/1500\n6/6 [==============================] - 0s 7ms/sample - loss: 1.7686\nEpoch 1350/1500\n6/6 [==============================] - 0s 6ms/sample - loss: 1.7665\nEpoch 1351/1500\n6/6 [==============================] - 0s 7ms/sample - loss: 1.7644\nEpoch 1352/1500\n6/6 [==============================] - 0s 8ms/sample - loss: 1.7623\nEpoch 1353/1500\n6/6 [==============================] - 0s 6ms/sample - loss: 1.7602\nEpoch 1354/1500\n6/6 [==============================] - 0s 7ms/sample - loss: 1.7581\nEpoch 1355/1500\n6/6 [==============================] - 0s 7ms/sample - loss: 1.7560\nEpoch 1356/1500\n6/6 [==============================] - 0s 8ms/sample - loss: 1.7539\nEpoch 1357/1500\n6/6 [==============================] - 0s 8ms/sample - loss: 1.7518\nEpoch 1358/1500\n6/6 [==============================] - 0s 8ms/sample - loss: 1.7497\nEpoch 1359/1500\n6/6 [==============================] - 0s 7ms/sample - loss: 1.7476\nEpoch 1360/1500\n6/6 [==============================] - 0s 7ms/sample - loss: 1.7456\nEpoch 1361/1500\n6/6 [==============================] - 0s 6ms/sample - loss: 1.7435\nEpoch 1362/1500\n6/6 [==============================] - 0s 7ms/sample - loss: 1.7414\nEpoch 1363/1500\n6/6 [==============================] - 0s 6ms/sample - loss: 1.7394\nEpoch 1364/1500\n6/6 [==============================] - 0s 7ms/sample - loss: 1.7373\nEpoch 1365/1500\n6/6 [==============================] - 0s 7ms/sample - loss: 1.7353\nEpoch 1366/1500\n6/6 [==============================] - 0s 7ms/sample - loss: 1.7332\nEpoch 1367/1500\n6/6 [==============================] - 0s 8ms/sample - loss: 1.7312\nEpoch 1368/1500\n6/6 [==============================] - 0s 7ms/sample - loss: 1.7291\nEpoch 1369/1500\n6/6 [==============================] - 0s 7ms/sample - loss: 1.7271\nEpoch 1370/1500\n6/6 [==============================] - 0s 8ms/sample - loss: 1.7251\nEpoch 1371/1500\n6/6 [==============================] - 0s 6ms/sample - loss: 1.7230\nEpoch 1372/1500\n6/6 [==============================] - 0s 7ms/sample - loss: 1.7210\nEpoch 1373/1500\n6/6 [==============================] - 0s 6ms/sample - loss: 1.7190\nEpoch 1374/1500\n6/6 [==============================] - 0s 7ms/sample - loss: 1.7169\nEpoch 1375/1500\n6/6 [==============================] - 0s 9ms/sample - loss: 1.7149\nEpoch 1376/1500\n6/6 [==============================] - 0s 8ms/sample - loss: 1.7129\nEpoch 1377/1500\n6/6 [==============================] - 0s 6ms/sample - loss: 1.7109\nEpoch 1378/1500\n6/6 [==============================] - 0s 7ms/sample - loss: 1.7089\nEpoch 1379/1500\n6/6 [==============================] - 0s 7ms/sample - loss: 1.7069\nEpoch 1380/1500\n6/6 [==============================] - 0s 7ms/sample - loss: 1.7049\nEpoch 1381/1500\n6/6 [==============================] - 0s 7ms/sample - loss: 1.7029\nEpoch 1382/1500\n6/6 [==============================] - 0s 6ms/sample - loss: 1.7009\nEpoch 1383/1500\n6/6 [==============================] - 0s 7ms/sample - loss: 1.6989\nEpoch 1384/1500\n6/6 [==============================] - 0s 7ms/sample - loss: 1.6969\nEpoch 1385/1500\n6/6 [==============================] - 0s 7ms/sample - loss: 1.6950\nEpoch 1386/1500\n6/6 [==============================] - 0s 6ms/sample - loss: 1.6930\nEpoch 1387/1500\n6/6 [==============================] - 0s 8ms/sample - loss: 1.6910\nEpoch 1388/1500\n6/6 [==============================] - 0s 6ms/sample - loss: 1.6891\nEpoch 1389/1500\n6/6 [==============================] - 0s 6ms/sample - loss: 1.6871\nEpoch 1390/1500\n6/6 [==============================] - 0s 7ms/sample - loss: 1.6851\nEpoch 1391/1500\n6/6 [==============================] - 0s 8ms/sample - loss: 1.6832\nEpoch 1392/1500\n6/6 [==============================] - 0s 7ms/sample - loss: 1.6812\nEpoch 1393/1500\n6/6 [==============================] - 0s 11ms/sample - loss: 1.6793\nEpoch 1394/1500\n6/6 [==============================] - 0s 7ms/sample - loss: 1.6773\nEpoch 1395/1500\n6/6 [==============================] - 0s 6ms/sample - loss: 1.6754\nEpoch 1396/1500\n6/6 [==============================] - 0s 8ms/sample - loss: 1.6735\nEpoch 1397/1500\n6/6 [==============================] - 0s 7ms/sample - loss: 1.6715\nEpoch 1398/1500\n6/6 [==============================] - 0s 7ms/sample - loss: 1.6696\nEpoch 1399/1500\n6/6 [==============================] - 0s 6ms/sample - loss: 1.6677\nEpoch 1400/1500\n6/6 [==============================] - 0s 7ms/sample - loss: 1.6657\nEpoch 1401/1500\n6/6 [==============================] - 0s 7ms/sample - loss: 1.6638\nEpoch 1402/1500\n6/6 [==============================] - 0s 7ms/sample - loss: 1.6619\nEpoch 1403/1500\n6/6 [==============================] - 0s 7ms/sample - loss: 1.6600\nEpoch 1404/1500\n6/6 [==============================] - 0s 7ms/sample - loss: 1.6581\nEpoch 1405/1500\n6/6 [==============================] - 0s 7ms/sample - loss: 1.6562\nEpoch 1406/1500\n6/6 [==============================] - 0s 6ms/sample - loss: 1.6543\nEpoch 1407/1500\n6/6 [==============================] - 0s 7ms/sample - loss: 1.6524\nEpoch 1408/1500\n6/6 [==============================] - 0s 7ms/sample - loss: 1.6505\nEpoch 1409/1500\n6/6 [==============================] - 0s 6ms/sample - loss: 1.6486\nEpoch 1410/1500\n6/6 [==============================] - 0s 6ms/sample - loss: 1.6467\nEpoch 1411/1500\n6/6 [==============================] - 0s 6ms/sample - loss: 1.6448\nEpoch 1412/1500\n6/6 [==============================] - 0s 7ms/sample - loss: 1.6429\nEpoch 1413/1500\n6/6 [==============================] - 0s 7ms/sample - loss: 1.6410\nEpoch 1414/1500\n6/6 [==============================] - 0s 8ms/sample - loss: 1.6392\nEpoch 1415/1500\n6/6 [==============================] - 0s 7ms/sample - loss: 1.6373\nEpoch 1416/1500\n6/6 [==============================] - 0s 7ms/sample - loss: 1.6354\nEpoch 1417/1500\n6/6 [==============================] - 0s 6ms/sample - loss: 1.6336\nEpoch 1418/1500\n6/6 [==============================] - 0s 7ms/sample - loss: 1.6317\nEpoch 1419/1500\n6/6 [==============================] - 0s 7ms/sample - loss: 1.6298\nEpoch 1420/1500\n6/6 [==============================] - 0s 7ms/sample - loss: 1.6280\nEpoch 1421/1500\n6/6 [==============================] - 0s 11ms/sample - loss: 1.6261\nEpoch 1422/1500\n6/6 [==============================] - 0s 7ms/sample - loss: 1.6243\nEpoch 1423/1500\n6/6 [==============================] - 0s 7ms/sample - loss: 1.6224\nEpoch 1424/1500\n6/6 [==============================] - 0s 7ms/sample - loss: 1.6206\nEpoch 1425/1500\n6/6 [==============================] - 0s 7ms/sample - loss: 1.6187\nEpoch 1426/1500\n6/6 [==============================] - 0s 6ms/sample - loss: 1.6169\nEpoch 1427/1500\n6/6 [==============================] - 0s 7ms/sample - loss: 1.6150\nEpoch 1428/1500\n6/6 [==============================] - 0s 8ms/sample - loss: 1.6132\nEpoch 1429/1500\n6/6 [==============================] - 0s 8ms/sample - loss: 1.6114\nEpoch 1430/1500\n6/6 [==============================] - 0s 7ms/sample - loss: 1.6096\nEpoch 1431/1500\n6/6 [==============================] - 0s 6ms/sample - loss: 1.6077\nEpoch 1432/1500\n6/6 [==============================] - 0s 6ms/sample - loss: 1.6059\nEpoch 1433/1500\n6/6 [==============================] - 0s 6ms/sample - loss: 1.6041\nEpoch 1434/1500\n6/6 [==============================] - 0s 7ms/sample - loss: 1.6023\nEpoch 1435/1500\n6/6 [==============================] - 0s 7ms/sample - loss: 1.6005\nEpoch 1436/1500\n6/6 [==============================] - 0s 8ms/sample - loss: 1.5987\nEpoch 1437/1500\n6/6 [==============================] - 0s 8ms/sample - loss: 1.5969\nEpoch 1438/1500\n6/6 [==============================] - 0s 7ms/sample - loss: 1.5951\nEpoch 1439/1500\n6/6 [==============================] - 0s 7ms/sample - loss: 1.5933\nEpoch 1440/1500\n6/6 [==============================] - 0s 7ms/sample - loss: 1.5915\nEpoch 1441/1500\n6/6 [==============================] - 0s 7ms/sample - loss: 1.5897\nEpoch 1442/1500\n6/6 [==============================] - 0s 7ms/sample - loss: 1.5879\nEpoch 1443/1500\n6/6 [==============================] - 0s 7ms/sample - loss: 1.5861\nEpoch 1444/1500\n6/6 [==============================] - 0s 8ms/sample - loss: 1.5843\nEpoch 1445/1500\n6/6 [==============================] - 0s 7ms/sample - loss: 1.5825\nEpoch 1446/1500\n6/6 [==============================] - 0s 7ms/sample - loss: 1.5808\nEpoch 1447/1500\n6/6 [==============================] - 0s 7ms/sample - loss: 1.5790\nEpoch 1448/1500\n6/6 [==============================] - 0s 7ms/sample - loss: 1.5772\nEpoch 1449/1500\n6/6 [==============================] - 0s 7ms/sample - loss: 1.5755\nEpoch 1450/1500\n6/6 [==============================] - 0s 7ms/sample - loss: 1.5737\nEpoch 1451/1500\n6/6 [==============================] - 0s 7ms/sample - loss: 1.5719\nEpoch 1452/1500\n6/6 [==============================] - 0s 6ms/sample - loss: 1.5702\nEpoch 1453/1500\n6/6 [==============================] - 0s 6ms/sample - loss: 1.5684\nEpoch 1454/1500\n6/6 [==============================] - 0s 6ms/sample - loss: 1.5666\nEpoch 1455/1500\n6/6 [==============================] - 0s 7ms/sample - loss: 1.5649\nEpoch 1456/1500\n6/6 [==============================] - 0s 7ms/sample - loss: 1.5631\nEpoch 1457/1500\n6/6 [==============================] - 0s 6ms/sample - loss: 1.5614\nEpoch 1458/1500\n6/6 [==============================] - 0s 7ms/sample - loss: 1.5597\nEpoch 1459/1500\n6/6 [==============================] - 0s 8ms/sample - loss: 1.5579\nEpoch 1460/1500\n6/6 [==============================] - 0s 7ms/sample - loss: 1.5562\nEpoch 1461/1500\n6/6 [==============================] - 0s 8ms/sample - loss: 1.5544\nEpoch 1462/1500\n6/6 [==============================] - 0s 7ms/sample - loss: 1.5527\nEpoch 1463/1500\n6/6 [==============================] - 0s 7ms/sample - loss: 1.5510\nEpoch 1464/1500\n6/6 [==============================] - 0s 6ms/sample - loss: 1.5493\nEpoch 1465/1500\n6/6 [==============================] - 0s 6ms/sample - loss: 1.5475\nEpoch 1466/1500\n6/6 [==============================] - 0s 6ms/sample - loss: 1.5458\nEpoch 1467/1500\n6/6 [==============================] - 0s 6ms/sample - loss: 1.5441\nEpoch 1468/1500\n6/6 [==============================] - 0s 7ms/sample - loss: 1.5424\nEpoch 1469/1500\n6/6 [==============================] - 0s 6ms/sample - loss: 1.5407\nEpoch 1470/1500\n6/6 [==============================] - 0s 7ms/sample - loss: 1.5389\nEpoch 1471/1500\n6/6 [==============================] - 0s 6ms/sample - loss: 1.5372\nEpoch 1472/1500\n6/6 [==============================] - 0s 7ms/sample - loss: 1.5355\nEpoch 1473/1500\n6/6 [==============================] - 0s 7ms/sample - loss: 1.5338\nEpoch 1474/1500\n6/6 [==============================] - 0s 6ms/sample - loss: 1.5321\nEpoch 1475/1500\n6/6 [==============================] - 0s 6ms/sample - loss: 1.5304\nEpoch 1476/1500\n6/6 [==============================] - 0s 8ms/sample - loss: 1.5288\nEpoch 1477/1500\n6/6 [==============================] - 0s 6ms/sample - loss: 1.5271\nEpoch 1478/1500\n6/6 [==============================] - 0s 6ms/sample - loss: 1.5254\nEpoch 1479/1500\n6/6 [==============================] - 0s 7ms/sample - loss: 1.5237\nEpoch 1480/1500\n6/6 [==============================] - 0s 8ms/sample - loss: 1.5220\nEpoch 1481/1500\n6/6 [==============================] - 0s 7ms/sample - loss: 1.5203\nEpoch 1482/1500\n6/6 [==============================] - 0s 6ms/sample - loss: 1.5187\nEpoch 1483/1500\n6/6 [==============================] - 0s 8ms/sample - loss: 1.5170\nEpoch 1484/1500\n6/6 [==============================] - 0s 8ms/sample - loss: 1.5153\nEpoch 1485/1500\n6/6 [==============================] - 0s 6ms/sample - loss: 1.5136\nEpoch 1486/1500\n6/6 [==============================] - 0s 7ms/sample - loss: 1.5120\nEpoch 1487/1500\n6/6 [==============================] - 0s 8ms/sample - loss: 1.5103\nEpoch 1488/1500\n6/6 [==============================] - 0s 7ms/sample - loss: 1.5087\nEpoch 1489/1500\n6/6 [==============================] - 0s 7ms/sample - loss: 1.5070\nEpoch 1490/1500\n6/6 [==============================] - 0s 7ms/sample - loss: 1.5053\nEpoch 1491/1500\n6/6 [==============================] - 0s 7ms/sample - loss: 1.5037\nEpoch 1492/1500\n6/6 [==============================] - 0s 7ms/sample - loss: 1.5020\nEpoch 1493/1500\n6/6 [==============================] - 0s 7ms/sample - loss: 1.5004\nEpoch 1494/1500\n6/6 [==============================] - 0s 7ms/sample - loss: 1.4987\nEpoch 1495/1500\n6/6 [==============================] - 0s 6ms/sample - loss: 1.4971\nEpoch 1496/1500\n6/6 [==============================] - 0s 6ms/sample - loss: 1.4955\nEpoch 1497/1500\n6/6 [==============================] - 0s 7ms/sample - loss: 1.4938\nEpoch 1498/1500\n6/6 [==============================] - 0s 7ms/sample - loss: 1.4922\nEpoch 1499/1500\n6/6 [==============================] - 0s 6ms/sample - loss: 1.4906\nEpoch 1500/1500\n6/6 [==============================] - 0s 7ms/sample - loss: 1.4889\n"
    }
   ],
   "source": [
    "history=myModel.fit(X,y,epochs=1500)"
   ]
  },
  {
   "cell_type": "markdown",
   "metadata": {},
   "source": [
    "# predicting"
   ]
  },
  {
   "cell_type": "code",
   "execution_count": 118,
   "metadata": {},
   "outputs": [],
   "source": [
    "testI=2"
   ]
  },
  {
   "cell_type": "code",
   "execution_count": 119,
   "metadata": {},
   "outputs": [],
   "source": [
    "preY=myModel.predict(X)[testI]"
   ]
  },
  {
   "cell_type": "code",
   "execution_count": 120,
   "metadata": {},
   "outputs": [
    {
     "name": "stdout",
     "output_type": "stream",
     "text": "将 将 军 带 上 战 车\nS B I B I B I\n"
    }
   ],
   "source": [
    "indexTagDict=dict(list(zip(list(tagIndexDict.values()),list(tagIndexDict.keys()))))\n",
    "indexWordDict=dict(list(zip(list(wordIndexDict.values()),list(wordIndexDict.keys()))))\n",
    "\n",
    "sentenceList=[indexWordDict[wordItem] for wordItem in X[testI]]\n",
    "sentenceList=sentenceList[:sentenceList.index(\"<end>\")]\n",
    "\n",
    "tagList=[indexTagDict[tagItem] for tagItem in preY]\n",
    "tagList=tagList[:tagList.index(\"END\")]\n",
    "\n",
    "print(\" \".join(sentenceList))\n",
    "print(\" \".join(tagList))"
   ]
  }
 ]
}